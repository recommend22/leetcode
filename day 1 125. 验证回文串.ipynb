{
 "cells": [
  {
   "cell_type": "code",
   "execution_count": 1,
   "metadata": {},
   "outputs": [
    {
     "data": {
      "text/plain": [
       "'\\n125. 验证回文串\\n给定一个字符串，验证它是否是回文串，只考虑字母和数字字符，可以忽略字母的大小写。\\n\\n说明：本题中，我们将空字符串定义为有效的回文串。\\n\\n示例 1:\\n\\n输入: \"A man, a plan, a canal: Panama\"\\n输出: true\\n示例 2:\\n\\n输入: \"race a car\"\\n输出: false\\n'"
      ]
     },
     "execution_count": 1,
     "metadata": {},
     "output_type": "execute_result"
    }
   ],
   "source": [
    "\"\"\"\n",
    "125. 验证回文串\n",
    "给定一个字符串，验证它是否是回文串，只考虑字母和数字字符，可以忽略字母的大小写。\n",
    "\n",
    "说明：本题中，我们将空字符串定义为有效的回文串。\n",
    "\n",
    "示例 1:\n",
    "\n",
    "输入: \"A man, a plan, a canal: Panama\"\n",
    "输出: true\n",
    "示例 2:\n",
    "\n",
    "输入: \"race a car\"\n",
    "输出: false\n",
    "\"\"\""
   ]
  },
  {
   "cell_type": "code",
   "execution_count": 2,
   "metadata": {},
   "outputs": [],
   "source": [
    "#方法一\n",
    "import string\n",
    "class Solution():\n",
    "    def isPalindrome( s):\n",
    "        \"\"\"\n",
    "        :type s: str\n",
    "        :rtype: bool\n",
    "        \"\"\"\n",
    "        b = ''.join(c.lower() for c in s if c not in string.punctuation).replace(' ','')\n",
    "        c = b[::-1]\n",
    "        return b == c"
   ]
  },
  {
   "cell_type": "code",
   "execution_count": 3,
   "metadata": {},
   "outputs": [
    {
     "data": {
      "text/plain": [
       "True"
      ]
     },
     "execution_count": 3,
     "metadata": {},
     "output_type": "execute_result"
    }
   ],
   "source": [
    "Solution.isPalindrome(s=\"A man, a plan, a canal: Panama\")\n",
    "#执行用时：84 ms\n",
    "#内存消耗：14.3 MB"
   ]
  },
  {
   "cell_type": "code",
   "execution_count": 4,
   "metadata": {},
   "outputs": [],
   "source": [
    "#方法二\n",
    "import string\n",
    "class Solution():\n",
    "    def isPalindrome(s):\n",
    "        \"\"\"\n",
    "        :type s: str\n",
    "        :rtype: bool\n",
    "        \"\"\"\n",
    "        b = ''.join(c.lower() for c in s if c not in string.punctuation).replace(' ','')\n",
    "        t = int(len(b)/2)\n",
    "#         print(b[:t]) \n",
    "        return b[:t] == b[::-1][:t]"
   ]
  },
  {
   "cell_type": "code",
   "execution_count": 5,
   "metadata": {},
   "outputs": [
    {
     "data": {
      "text/plain": [
       "True"
      ]
     },
     "execution_count": 5,
     "metadata": {},
     "output_type": "execute_result"
    }
   ],
   "source": [
    "Solution.isPalindrome(s=\"A man, a plan, a canal: Panama\")\n",
    "#执行用时：76 ms\n",
    "#内存消耗：14.3 MB"
   ]
  },
  {
   "cell_type": "code",
   "execution_count": 6,
   "metadata": {},
   "outputs": [],
   "source": [
    "#方法三\n",
    "class Solution:\n",
    "    def isPalindrome(s):\n",
    "#     def isPalindrome(s: str) -> bool:\n",
    "#如果 string 至少有一个字符并且所有字符都是字母或数字则返回 True,否则返回 False\n",
    "        b = ''.join(filter(str.isalnum,s)).lower()\n",
    "        t = int(len(b)/2)\n",
    "        # print(b[:t]) \n",
    "        return b[:t] == b[::-1][:t]"
   ]
  },
  {
   "cell_type": "code",
   "execution_count": 7,
   "metadata": {},
   "outputs": [
    {
     "data": {
      "text/plain": [
       "True"
      ]
     },
     "execution_count": 7,
     "metadata": {},
     "output_type": "execute_result"
    }
   ],
   "source": [
    "Solution.isPalindrome(s=\"A man, a plan, a canal: Panama\")\n",
    "#执行用时：44 ms\n",
    "#内存消耗：14.3 MB"
   ]
  },
  {
   "cell_type": "code",
   "execution_count": 13,
   "metadata": {},
   "outputs": [
    {
     "data": {
      "text/plain": [
       "'\\n680. 验证回文字符串 Ⅱ\\n给定一个非空字符串\\xa0s，最多删除一个字符。判断是否能成为回文字符串。\\n\\n示例 1:\\n\\n输入: \"aba\"\\n输出: True\\n示例 2:\\n\\n输入: \"abca\"\\n输出: True\\n解释: 你可以删除c字符。\\n注意:\\n\\n字符串只包含从 a-z 的小写字母。字符串的最大长度是50000。\\n\\n'"
      ]
     },
     "execution_count": 13,
     "metadata": {},
     "output_type": "execute_result"
    }
   ],
   "source": [
    "\"\"\"\n",
    "680. 验证回文字符串 Ⅱ\n",
    "给定一个非空字符串 s，最多删除一个字符。判断是否能成为回文字符串。\n",
    "\n",
    "示例 1:\n",
    "\n",
    "输入: \"aba\"\n",
    "输出: True\n",
    "示例 2:\n",
    "\n",
    "输入: \"abca\"\n",
    "输出: True\n",
    "解释: 你可以删除c字符。\n",
    "注意:\n",
    "\n",
    "字符串只包含从 a-z 的小写字母。字符串的最大长度是50000。\n",
    "\n",
    "\"\"\""
   ]
  },
  {
   "cell_type": "code",
   "execution_count": 14,
   "metadata": {},
   "outputs": [],
   "source": [
    "class Solution:\n",
    "    def validPalindrome(self, s: str) -> bool:\n",
    "        if s == s[::-1]:\n",
    "            return True\n",
    "        i, j = 0, len(s) - 1\n",
    "        while i < j:\n",
    "            if s[i] != s[j]:\n",
    "                a = s[:i] + s[i+1:]\n",
    "                if a == a[::-1]:\n",
    "                    return True\n",
    "                b = s[:j] + s[j+1:]\n",
    "                if b == b[::-1]:\n",
    "                    return True\n",
    "                return False\n",
    "            else:\n",
    "                i += 1\n",
    "                j -= 1\n",
    "        return False"
   ]
  },
  {
   "cell_type": "code",
   "execution_count": 15,
   "metadata": {},
   "outputs": [
    {
     "data": {
      "text/plain": [
       "True"
      ]
     },
     "execution_count": 15,
     "metadata": {},
     "output_type": "execute_result"
    }
   ],
   "source": [
    "b = Solution()\n",
    "b.validPalindrome('abca')\n",
    "#执行用时 :76 ms\n",
    "#内存消耗 :13.8 MB"
   ]
  }
 ],
 "metadata": {
  "kernelspec": {
   "display_name": "Python 3",
   "language": "python",
   "name": "python3"
  },
  "language_info": {
   "codemirror_mode": {
    "name": "ipython",
    "version": 3
   },
   "file_extension": ".py",
   "mimetype": "text/x-python",
   "name": "python",
   "nbconvert_exporter": "python",
   "pygments_lexer": "ipython3",
   "version": "3.7.3"
  }
 },
 "nbformat": 4,
 "nbformat_minor": 2
}
