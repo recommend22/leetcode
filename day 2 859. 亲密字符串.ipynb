{
 "cells": [
  {
   "cell_type": "code",
   "execution_count": null,
   "metadata": {},
   "outputs": [],
   "source": [
    "\"\"\"\n",
    "859. 亲密字符串\n",
    "给定两个由小写字母构成的字符串 A 和 B ，只要我们可以通过交换 A 中的两个字母得到与 B 相等的结果，就返回 true ；否则返回 false 。\n",
    "\n",
    " \n",
    "\n",
    "示例 1：\n",
    "\n",
    "输入： A = \"ab\", B = \"ba\"\n",
    "输出： true\n",
    "示例 2：\n",
    "\n",
    "输入： A = \"ab\", B = \"ab\"\n",
    "输出： false\n",
    "示例 3:\n",
    "\n",
    "输入： A = \"aa\", B = \"aa\"\n",
    "输出： true\n",
    "示例 4：\n",
    "\n",
    "输入： A = \"aaaaaaabc\", B = \"aaaaaaacb\"\n",
    "输出： true\n",
    "示例 5：\n",
    "\n",
    "输入： A = \"\", B = \"aa\"\n",
    "输出： false\n",
    " \n",
    "\n",
    "提示：\n",
    "\n",
    "0 <= A.length <= 20000\n",
    "0 <= B.length <= 20000\n",
    "A 和 B 仅由小写字母构成。\n",
    "\n",
    "\"\"\""
   ]
  },
  {
   "cell_type": "code",
   "execution_count": 1,
   "metadata": {},
   "outputs": [],
   "source": [
    "#方法一\n",
    "class Solution:\n",
    "    def buddyStrings(self, A: str, B: str) -> bool:\n",
    "        a,b = len(A),len(B)\n",
    "        count = 1\n",
    "        if a != b:\n",
    "            return False\n",
    "        for i in range(a):\n",
    "            # j = i\n",
    "            if A[i] != B[i] and count == 1:\n",
    "                count = 0\n",
    "                j = i+1\n",
    "                y = B[i:]\n",
    "                while(j<a):\n",
    "                    # print(i,j)\n",
    "                    if j - i ==1:\n",
    "                        x = A[j]+A[i]+A[j+1:]\n",
    "                    elif j == a:\n",
    "                        x = A[j]+A[i+1:j]+A[i]\n",
    "                    else:\n",
    "                        x = A[j]+A[i+1:j]+A[i]+A[j+1:]\n",
    "                   \n",
    "                    if x == y:\n",
    "                        return True\n",
    "                    j += 1\n",
    "\n",
    "        if A == B and count == 1:\n",
    "            for i in range(a):\n",
    "                if A[i] in A[i+1:]:\n",
    "                    return True\n",
    "        return False"
   ]
  },
  {
   "cell_type": "code",
   "execution_count": 2,
   "metadata": {},
   "outputs": [
    {
     "data": {
      "text/plain": [
       "True"
      ]
     },
     "execution_count": 2,
     "metadata": {},
     "output_type": "execute_result"
    }
   ],
   "source": [
    "b = Solution()\n",
    "b.buddyStrings(\"acccccb\",\"bccccca\")\n",
    "#执行用时 :88 ms , 在所有 Python3 提交中击败了6.28%的用户\n",
    "#内存消耗 :13.5 MB, 在所有 Python3 提交中击败了16.88%的用户"
   ]
  },
  {
   "cell_type": "code",
   "execution_count": 3,
   "metadata": {},
   "outputs": [],
   "source": [
    "#方法二\n",
    "class Solution:\n",
    "    def buddyStrings(self, A: str, B: str) -> bool:\n",
    "        a,b = len(A),len(B)\n",
    "        # count = 1\n",
    "\n",
    "        if a != b:\n",
    "            return False\n",
    "\n",
    "        if A == B and len(set(A))<len(A):\n",
    "            return True\n",
    "\n",
    "        buf = []\n",
    "        for i in range(a):\n",
    "            if A[i] != B[i]:\n",
    "                buf.append(A[i])\n",
    "                buf.append(B[i])\n",
    "            if len(buf)>4:\n",
    "                return False\n",
    "        return len(buf)==4 and buf[0]==buf[3] and buf[1] ==buf[2]"
   ]
  },
  {
   "cell_type": "code",
   "execution_count": 4,
   "metadata": {},
   "outputs": [
    {
     "data": {
      "text/plain": [
       "True"
      ]
     },
     "execution_count": 4,
     "metadata": {},
     "output_type": "execute_result"
    }
   ],
   "source": [
    "b = Solution()\n",
    "b.buddyStrings(\"acccccb\",\"bccccca\")\n",
    "#执行用时 :44 ms , 在所有 Python3 提交中击败了34.75%的用户\n",
    "#内存消耗 :13.5 MB, 在所有 Python3 提交中击败了16.88%的用户"
   ]
  }
 ],
 "metadata": {
  "kernelspec": {
   "display_name": "Python 3",
   "language": "python",
   "name": "python3"
  },
  "language_info": {
   "codemirror_mode": {
    "name": "ipython",
    "version": 3
   },
   "file_extension": ".py",
   "mimetype": "text/x-python",
   "name": "python",
   "nbconvert_exporter": "python",
   "pygments_lexer": "ipython3",
   "version": "3.7.3"
  }
 },
 "nbformat": 4,
 "nbformat_minor": 2
}
